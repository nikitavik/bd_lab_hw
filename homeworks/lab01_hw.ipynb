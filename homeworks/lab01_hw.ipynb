{
 "nbformat": 4,
 "nbformat_minor": 0,
 "metadata": {
  "colab": {
   "provenance": [],
   "authorship_tag": "ABX9TyOBSrpPAdbguCslvACZei52"
  },
  "kernelspec": {
   "name": "python3",
   "display_name": "Python 3"
  },
  "language_info": {
   "name": "python"
  }
 },
 "cells": [
  {
   "cell_type": "markdown",
   "source": [
    "\n",
    "1) Import the numpy package as np, so that you can refer to numpy with np.\n",
    "Use np.array() to create a numpy array from baseball. Name this array np_baseball.\n",
    "Print out the type of np_baseball to check that you got it right.\n"
   ],
   "metadata": {
    "id": "BoCA2MR8Y3mi"
   }
  },
  {
   "cell_type": "code",
   "source": [
    "# Create list baseball\n",
    "baseball = [180, 215, 210, 210, 188, 176, 209, 200]\n",
    "\n",
    "# Import the numpy package as np\n",
    "import numpy as np\n",
    "\n",
    "# Create a numpy array from baseball: np_baseball\n",
    "np_baseball = np.array(baseball)\n",
    "\n",
    "# Print out type of np_baseball\n",
    "print(np_baseball)"
   ],
   "metadata": {
    "id": "pHgEngQlYztj",
    "colab": {
     "base_uri": "https://localhost:8080/"
    },
    "executionInfo": {
     "status": "ok",
     "timestamp": 1665127364110,
     "user_tz": -600,
     "elapsed": 7,
     "user": {
      "displayName": "Николай Пак",
      "userId": "09943008863308563402"
     }
    },
    "outputId": "72099347-1154-4d5d-b75b-1838d7c5a073"
   },
   "execution_count": 1,
   "outputs": [
    {
     "name": "stdout",
     "output_type": "stream",
     "text": [
      "[180 215 210 210 188 176 209 200]\n"
     ]
    }
   ]
  },
  {
   "cell_type": "code",
   "source": [
    "type(np_baseball)"
   ],
   "metadata": {
    "id": "TcW5_XPIU230",
    "executionInfo": {
     "status": "ok",
     "timestamp": 1665127397121,
     "user_tz": -600,
     "elapsed": 346,
     "user": {
      "displayName": "Николай Пак",
      "userId": "09943008863308563402"
     }
    },
    "outputId": "717911fe-b330-4bb9-ca04-e19f915c54cb",
    "colab": {
     "base_uri": "https://localhost:8080/"
    }
   },
   "execution_count": 2,
   "outputs": [
    {
     "data": {
      "text/plain": "numpy.ndarray"
     },
     "execution_count": 2,
     "metadata": {},
     "output_type": "execute_result"
    }
   ]
  },
  {
   "cell_type": "markdown",
   "source": [
    "\n",
    "2) Create a numpy array from height_in. Name this new array np_height_in.\n",
    "Print np_height_in.\n",
    "Multiply np_height_in with 0.0254 to convert all height measurements from inches to meters. Store the new values in a new array, np_height_m.\n",
    "Print out np_height_m and check if the output makes sense.\n"
   ],
   "metadata": {
    "id": "_-dMnfhsbYEb"
   }
  },
  {
   "cell_type": "code",
   "source": [
    "# height is available as a regular list\n",
    "height_in = [74, 74, 72, 72, 73, 69, 69, 71, 76, 71]\n",
    "\n",
    "# Create a numpy array from height_in: np_height_in\n",
    "np_height_in = np.array(height_in)\n",
    "\n",
    "# Print out np_height_in\n",
    "print(np_height_in)\n",
    "\n",
    "# Convert np_height_in to m: np_height_m\n",
    "np_height_m = np_height_in * 0.0254\n",
    "# Print np_height_m\n",
    "np_height_m\n"
   ],
   "metadata": {
    "id": "kleH_1UvbiPS"
   },
   "execution_count": 3,
   "outputs": [
    {
     "name": "stdout",
     "output_type": "stream",
     "text": [
      "[74 74 72 72 73 69 69 71 76 71]\n"
     ]
    },
    {
     "data": {
      "text/plain": "array([1.8796, 1.8796, 1.8288, 1.8288, 1.8542, 1.7526, 1.7526, 1.8034,\n       1.9304, 1.8034])"
     },
     "execution_count": 3,
     "metadata": {},
     "output_type": "execute_result"
    }
   ]
  },
  {
   "cell_type": "markdown",
   "source": [
    "3) Create a numpy array from the weight_lb list with the correct units. Multiply by 0.453592 to go from pounds to kilograms. Store the resulting numpy array as np_weight_kg.\n",
    "Use np_height_m and np_weight_kg to calculate the BMI of each player. Use the following equation: \n",
    "\n",
    "${BMI} = \\frac{\\mathrm{weight (kg)}}{\\mathrm{height (m)}^2}$\n",
    "\n",
    "Save the resulting numpy array as bmi.\n",
    "Print out bmi."
   ],
   "metadata": {
    "id": "WJ7XvOkgxnOe"
   }
  },
  {
   "cell_type": "code",
   "source": [
    "# height and weight are available as regular lists\n",
    "height_in = [74, 74, 72, 72, 73, 69, 69, 71, 76, 71]\n",
    "weight_lb = [180, 215, 145, 210, 159, 176, 209, 200, 231, 180]\n",
    "\n",
    "# Create array from height_in with metric units: np_height_m\n",
    "np_height_m = np.array(height_in) *  0.0254\n",
    "\n",
    "# Create array from weight_lb with metric units: np_weight_kg\n",
    "np_weight_kg = np.array(weight_lb) *  0.453592\n",
    "\n",
    "\n",
    "# Calculate the BMI: bmi\n",
    "bmi = np.divide(np_weight_kg, np_height_m**2)\n",
    "\n",
    "# Print out bmi\n",
    "print(bmi)"
   ],
   "metadata": {
    "id": "70ii42_CxpT4"
   },
   "execution_count": 4,
   "outputs": [
    {
     "name": "stdout",
     "output_type": "stream",
     "text": [
      "[23.11037639 27.60406069 19.66531749 28.48080465 20.97728879 25.99036864\n",
      " 30.86356276 27.89402921 28.11789135 25.10462629]\n"
     ]
    }
   ]
  },
  {
   "cell_type": "markdown",
   "source": [
    "\n",
    "4) Create a boolean numpy array: the element of the array should be True if the corresponding baseball player's BMI is below 21. You can use the < operator for this. Name the array light.\n",
    "Print the array light.\n",
    "Print out a numpy array with the BMIs of all baseball players whose BMI is below 21. Use light inside square brackets to do a selection on the bmi array.\n"
   ],
   "metadata": {
    "id": "iWhqMc-KzUi6"
   }
  },
  {
   "cell_type": "code",
   "source": [
    "# Calculate the BMI: bmi\n",
    "bmi = np.divide(np_weight_kg, np_height_m**2)\n",
    "\n",
    "# Create the light array\n",
    "light = bmi < 21\n",
    "\n",
    "# Print out light\n",
    "print(light)\n",
    "\n",
    "# Print out BMIs of all baseball players whose BMI is below 21\n",
    "print(bmi[light])"
   ],
   "metadata": {
    "id": "oY2oCnO7zW9_"
   },
   "execution_count": 5,
   "outputs": [
    {
     "name": "stdout",
     "output_type": "stream",
     "text": [
      "[False False  True False  True False False False False False]\n",
      "[19.66531749 20.97728879]\n"
     ]
    }
   ]
  },
  {
   "cell_type": "markdown",
   "source": [
    "\n",
    "5) Subset np_weight_lb by printing out the element at index 5.\n",
    "Print out a sub-array of np_height_in that contains the elements at index 5 up to and including index 10.\n"
   ],
   "metadata": {
    "id": "_VQ1SIW00ID3"
   }
  },
  {
   "cell_type": "code",
   "source": [
    "# Store weight and height lists as numpy arrays\n",
    "weight = np.array(weight_lb)\n",
    "height = np.array(height_in)\n",
    "\n",
    "# Print out the weight at index 5\n",
    "print(weight[5])\n",
    "\n",
    "# Print out sub-array of np_height_in: index 5 up to and including index 10\n",
    "weight[5:]\n"
   ],
   "metadata": {
    "id": "oJng3OdK0Kw2"
   },
   "execution_count": 6,
   "outputs": [
    {
     "name": "stdout",
     "output_type": "stream",
     "text": [
      "176\n"
     ]
    },
    {
     "data": {
      "text/plain": "array([176, 209, 200, 231, 180])"
     },
     "execution_count": 6,
     "metadata": {},
     "output_type": "execute_result"
    }
   ]
  },
  {
   "cell_type": "markdown",
   "source": [
    "6) Use np.array() to create a 2D numpy array from baseball. Name it np_baseball.\n",
    "    Print out the type of np_baseball.\n",
    "    Print out the shape attribute of np_baseball. Use np_baseball.shape.\n"
   ],
   "metadata": {
    "id": "jpk7Rxa-2tHu"
   }
  },
  {
   "cell_type": "code",
   "source": [
    "# Create baseball, a list of lists\n",
    "baseball = [[180, 78.4],\n",
    "            [215, 102.7],\n",
    "            [210, 98.5],\n",
    "            [188, 75.2]]\n",
    "\n",
    "# Create a 2D numpy array from baseball: np_baseball\n",
    "np_baseball = np.array(baseball)\n",
    "\n",
    "# Print out the type of np_baseball\n",
    "print(type(np_baseball))\n",
    "\n",
    "# Print out the shape of np_baseball\n",
    "print(np_baseball.shape)\n"
   ],
   "metadata": {
    "id": "7EYZnGPY2v8G"
   },
   "execution_count": 7,
   "outputs": [
    {
     "name": "stdout",
     "output_type": "stream",
     "text": [
      "<class 'numpy.ndarray'>\n",
      "(4, 2)\n"
     ]
    }
   ]
  },
  {
   "cell_type": "markdown",
   "source": [
    "7) \n",
    "    Print out the 50th row of np_baseball.\n",
    "    Make a new variable, np_weight_lb, containing the entire second column of np_baseball.\n",
    "    Select the height (first column) of the 124th baseball player in np_baseball and print it out.\n"
   ],
   "metadata": {
    "id": "v4UZ0Oy03R-0"
   }
  },
  {
   "cell_type": "code",
   "source": [
    "baseball = [[ 74, 180],\n",
    "            [ 74, 215],\n",
    "            [ 72, 210],\n",
    "            [ 72, 210],\n",
    "            [ 73, 188],\n",
    "            [ 69, 176],\n",
    "            [ 69, 209],\n",
    "            [ 71, 200],\n",
    "            [ 76, 231],\n",
    "            [ 71, 180],\n",
    "            [ 73, 188],\n",
    "            [ 73, 180],\n",
    "            [ 74, 185],\n",
    "            [ 74, 160],\n",
    "            [ 69, 180],\n",
    "            [ 70, 185],\n",
    "            [ 73, 189],\n",
    "            [ 75, 185],\n",
    "            [ 78, 219],\n",
    "            [ 79, 230]]\n",
    "\n",
    "# Create np_baseball (2 cols)\n",
    "np_baseball = np.array(baseball)\n",
    "\n",
    "# Print out the 20th row of np_baseball\n",
    "print(np_baseball[19:])\n",
    "\n",
    "# Select the entire second column of np_baseball: np_weight_lb\n",
    "all_heights = np_baseball[: , 1]\n",
    "\n",
    "# Print out height of 12th player\n",
    "all_heights[11]"
   ],
   "metadata": {
    "id": "X0HU2pCp3TFe"
   },
   "execution_count": 8,
   "outputs": [
    {
     "name": "stdout",
     "output_type": "stream",
     "text": [
      "[[ 79 230]]\n"
     ]
    },
    {
     "data": {
      "text/plain": "180"
     },
     "execution_count": 8,
     "metadata": {},
     "output_type": "execute_result"
    }
   ]
  },
  {
   "cell_type": "markdown",
   "source": [
    "8) \n",
    "    You managed to get hold of the changes in height, weight and age of all baseball players. It is available as a 2D numpy array, updated. Add np_baseball and updated and print out the result.\n",
    "    You want to convert the units of height and weight to metric (meters and kilograms, respectively). As a first step, create a numpy array with three values: 0.0254, 0.453592 and 1. Name this array conversion.\n",
    "    Multiply np_baseball with conversion and print out the result.\n"
   ],
   "metadata": {
    "id": "r5nxB9zA4WCB"
   }
  },
  {
   "cell_type": "code",
   "source": [
    "# baseball is available as a regular list of lists\n",
    "# updated is available as 2D numpy array\n",
    "baseball = [[ 74.  , 180.  ,  22.99],\n",
    "       [ 74.  , 215.  ,  34.69],\n",
    "       [ 72.  , 210.  ,  30.78],\n",
    "       [ 72.  , 210.  ,  35.43],\n",
    "       [ 73.  , 188.  ,  35.71],\n",
    "       [ 69.  , 176.  ,  29.39],\n",
    "       [ 69.  , 209.  ,  30.77],\n",
    "       [ 71.  , 200.  ,  35.07],\n",
    "       [ 76.  , 231.  ,  30.19],\n",
    "       [ 71.  , 180.  ,  27.05],\n",
    "       [ 73.  , 188.  ,  23.88],\n",
    "       [ 73.  , 180.  ,  26.96],\n",
    "       [ 74.  , 185.  ,  23.29],\n",
    "       [ 74.  , 160.  ,  26.11],\n",
    "       [ 69.  , 180.  ,  27.55],\n",
    "       [ 70.  , 185.  ,  34.27],\n",
    "       [ 73.  , 189.  ,  27.99],\n",
    "       [ 75.  , 185.  ,  22.38],\n",
    "       [ 78.  , 219.  ,  22.89],\n",
    "       [ 79.  , 230.  ,  25.76]]\n",
    "updated = np.array([[  1.2303559 , -11.16224898,   1.        ],\n",
    "       [  1.02614252,  16.09732309,   1.        ],\n",
    "       [  1.1544228 ,   5.08167641,   1.        ],\n",
    "       [  0.64427532,  -5.09538071,   1.        ],\n",
    "       [  1.00590086,   2.24342718,   1.        ],\n",
    "       [  0.97953547,  12.19841763,   1.        ],\n",
    "       [  0.62874324,  13.72324216,   1.        ],\n",
    "       [  1.27075194,  -8.87946313,   1.        ],\n",
    "       [  0.47655945, -10.82495536,   1.        ],\n",
    "       [  0.91699376,  -7.01116249,   1.        ],\n",
    "       [  1.17179326,   1.19946614,   1.        ],\n",
    "       [  1.14509104, -12.00385685,   1.        ],\n",
    "       [  1.20684945, -13.29830645,   1.        ],\n",
    "       [  1.03436155,   3.01324251,   1.        ],\n",
    "       [  0.87747454,  10.51779503,   1.        ],\n",
    "       [  0.9813308 ,  -1.55666485,   1.        ],\n",
    "       [  1.03051228,   4.47971582,   1.        ],\n",
    "       [  1.21042271, -19.04502745,   1.        ],\n",
    "       [  1.34612414,   6.74418894,   1.        ],\n",
    "       [  0.97544726,   7.27211497,   1.        ]])\n",
    "\n",
    "# Create np_baseball (3 cols)\n",
    "np_baseball = np.array(baseball)\n",
    "\n",
    "# Print out addition of np_baseball and updated\n",
    "print(np_baseball + updated)\n",
    "\n",
    "# Create numpy array: conversion\n",
    "conversion = np.array([0.0254, 0.453592, 1])\n",
    "\n",
    "# Print out product of np_baseball and conversion\n",
    "np_baseball * conversion"
   ],
   "metadata": {
    "id": "zUM1RcuH4XwJ"
   },
   "execution_count": 9,
   "outputs": [
    {
     "name": "stdout",
     "output_type": "stream",
     "text": [
      "[[ 75.2303559  168.83775102  23.99      ]\n",
      " [ 75.02614252 231.09732309  35.69      ]\n",
      " [ 73.1544228  215.08167641  31.78      ]\n",
      " [ 72.64427532 204.90461929  36.43      ]\n",
      " [ 74.00590086 190.24342718  36.71      ]\n",
      " [ 69.97953547 188.19841763  30.39      ]\n",
      " [ 69.62874324 222.72324216  31.77      ]\n",
      " [ 72.27075194 191.12053687  36.07      ]\n",
      " [ 76.47655945 220.17504464  31.19      ]\n",
      " [ 71.91699376 172.98883751  28.05      ]\n",
      " [ 74.17179326 189.19946614  24.88      ]\n",
      " [ 74.14509104 167.99614315  27.96      ]\n",
      " [ 75.20684945 171.70169355  24.29      ]\n",
      " [ 75.03436155 163.01324251  27.11      ]\n",
      " [ 69.87747454 190.51779503  28.55      ]\n",
      " [ 70.9813308  183.44333515  35.27      ]\n",
      " [ 74.03051228 193.47971582  28.99      ]\n",
      " [ 76.21042271 165.95497255  23.38      ]\n",
      " [ 79.34612414 225.74418894  23.89      ]\n",
      " [ 79.97544726 237.27211497  26.76      ]]\n"
     ]
    },
    {
     "data": {
      "text/plain": "array([[  1.8796  ,  81.64656 ,  22.99    ],\n       [  1.8796  ,  97.52228 ,  34.69    ],\n       [  1.8288  ,  95.25432 ,  30.78    ],\n       [  1.8288  ,  95.25432 ,  35.43    ],\n       [  1.8542  ,  85.275296,  35.71    ],\n       [  1.7526  ,  79.832192,  29.39    ],\n       [  1.7526  ,  94.800728,  30.77    ],\n       [  1.8034  ,  90.7184  ,  35.07    ],\n       [  1.9304  , 104.779752,  30.19    ],\n       [  1.8034  ,  81.64656 ,  27.05    ],\n       [  1.8542  ,  85.275296,  23.88    ],\n       [  1.8542  ,  81.64656 ,  26.96    ],\n       [  1.8796  ,  83.91452 ,  23.29    ],\n       [  1.8796  ,  72.57472 ,  26.11    ],\n       [  1.7526  ,  81.64656 ,  27.55    ],\n       [  1.778   ,  83.91452 ,  34.27    ],\n       [  1.8542  ,  85.728888,  27.99    ],\n       [  1.905   ,  83.91452 ,  22.38    ],\n       [  1.9812  ,  99.336648,  22.89    ],\n       [  2.0066  , 104.32616 ,  25.76    ]])"
     },
     "execution_count": 9,
     "metadata": {},
     "output_type": "execute_result"
    }
   ]
  },
  {
   "cell_type": "markdown",
   "source": [
    "9) \n",
    "    Create numpy array np_height_in that is equal to first column of np_baseball.\n",
    "    Print out the mean of np_height_in.\n",
    "    Print out the median of np_height_in.\n"
   ],
   "metadata": {
    "id": "zxSsH_Bf6Rmi"
   }
  },
  {
   "cell_type": "code",
   "source": [
    "import numpy as np\n",
    "# np_baseball is available\n",
    "np_baseball = np.array([[ 74.  , 180.  ,  22.99],\n",
    "       [ 74.  , 215.  ,  34.69],\n",
    "       [ 72.  , 210.  ,  30.78],\n",
    "       [ 72.  , 210.  ,  35.43],\n",
    "       [ 73.  , 188.  ,  35.71],\n",
    "       [ 69.  , 176.  ,  29.39],\n",
    "       [ 69.  , 209.  ,  30.77],\n",
    "       [ 71.  , 200.  ,  35.07],\n",
    "       [ 76.  , 231.  ,  30.19],\n",
    "       [ 71.  , 180.  ,  27.05],\n",
    "       [ 73.  , 188.  ,  23.88],\n",
    "       [ 73.  , 180.  ,  26.96],\n",
    "       [ 74.  , 185.  ,  23.29],\n",
    "       [ 74.  , 160.  ,  26.11],\n",
    "       [ 69.  , 180.  ,  27.55],\n",
    "       [ 70.  , 185.  ,  34.27],\n",
    "       [ 73.  , 189.  ,  27.99],\n",
    "       [ 75.  , 185.  ,  22.38],\n",
    "       [ 78.  , 219.  ,  22.89],\n",
    "       [ 79.  , 230.  ,  25.76]])\n",
    "\n",
    "# Create np_height_in from np_baseball\n",
    "np_height_in = np_baseball[:, 0]\n",
    "\n",
    "# Print out the mean of np_height_in\n",
    "print(np_height_in.mean())\n",
    "# Print out the median of np_height_in\n",
    "np.median(np_height_in)"
   ],
   "metadata": {
    "id": "8qxsZ4ua6SuL"
   },
   "execution_count": 10,
   "outputs": [
    {
     "name": "stdout",
     "output_type": "stream",
     "text": [
      "72.95\n"
     ]
    },
    {
     "data": {
      "text/plain": "73.0"
     },
     "execution_count": 10,
     "metadata": {},
     "output_type": "execute_result"
    }
   ]
  },
  {
   "cell_type": "markdown",
   "source": [
    "10) \n",
    "    The code to print out the mean height is already included. Complete the code for the median height. Replace None with the correct code.\n",
    "    Use np.std() on the first column of np_baseball to calculate stddev. Replace None with the correct code.\n",
    "    Do big players tend to be heavier? Use np.corrcoef() to store the correlation between the first and second column of np_baseball in corr. Replace None with the correct code.\n"
   ],
   "metadata": {
    "id": "jb3XTk6O7N7O"
   }
  },
  {
   "cell_type": "code",
   "source": [
    "# np_baseball is available\n",
    "np_baseball = np.array([[ 74.  , 180.  ,  22.99],\n",
    "       [ 74.  , 215.  ,  34.69],\n",
    "       [ 72.  , 210.  ,  30.78],\n",
    "       [ 72.  , 210.  ,  35.43],\n",
    "       [ 73.  , 188.  ,  35.71],\n",
    "       [ 69.  , 176.  ,  29.39],\n",
    "       [ 69.  , 209.  ,  30.77],\n",
    "       [ 71.  , 200.  ,  35.07],\n",
    "       [ 76.  , 231.  ,  30.19],\n",
    "       [ 71.  , 180.  ,  27.05],\n",
    "       [ 73.  , 188.  ,  23.88],\n",
    "       [ 73.  , 180.  ,  26.96],\n",
    "       [ 74.  , 185.  ,  23.29],\n",
    "       [ 74.  , 160.  ,  26.11],\n",
    "       [ 69.  , 180.  ,  27.55],\n",
    "       [ 70.  , 185.  ,  34.27],\n",
    "       [ 73.  , 189.  ,  27.99],\n",
    "       [ 75.  , 185.  ,  22.38],\n",
    "       [ 78.  , 219.  ,  22.89],\n",
    "       [ 79.  , 230.  ,  25.76]])\n",
    "\n",
    "players_height = np_baseball[:, 0]\n",
    "players_weight = np_baseball[:, 1]\n",
    "# Print mean height (first column)\n",
    "avg = players_height.mean()\n",
    "print(\"Average: \" + str(avg))\n",
    "\n",
    "# Print median height. \n",
    "med = np.median(players_height)\n",
    "print(\"Median: \" + str(med))\n",
    "\n",
    "# Print out the standard deviation on height. \n",
    "stddev = np.std(players_height)\n",
    "print(\"Standard Deviation: \" + str(stddev))\n",
    "\n",
    "# Print out correlation between first and second column. \n",
    "corr = np.corrcoef(players_height, players_weight)\n",
    "print(\"Correlation: \" + str(corr))"
   ],
   "metadata": {
    "id": "Sc_IlR7Z7PpW"
   },
   "execution_count": 11,
   "outputs": [
    {
     "name": "stdout",
     "output_type": "stream",
     "text": [
      "Average: 72.95\n",
      "Median: 73.0\n",
      "Standard Deviation: 2.692118125194361\n",
      "Correlation: [[1.         0.47158169]\n",
      " [0.47158169 1.        ]]\n"
     ]
    }
   ]
  }
 ]
}
