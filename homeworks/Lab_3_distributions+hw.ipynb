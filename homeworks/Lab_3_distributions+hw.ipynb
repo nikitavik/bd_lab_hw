{
 "nbformat": 4,
 "nbformat_minor": 0,
 "metadata": {
  "colab": {
   "provenance": [],
   "toc_visible": true
  },
  "kernelspec": {
   "name": "python3",
   "display_name": "Python 3"
  },
  "language_info": {
   "name": "python"
  }
 },
 "cells": [
  {
   "cell_type": "markdown",
   "source": [
    "**PROBABILITY DISTRIBUTIONS**"
   ],
   "metadata": {
    "id": "DCK6ZOnAwxri"
   }
  },
  {
   "cell_type": "markdown",
   "source": [
    "\n",
    "Ресурсы\n",
    "\n",
    "*   scipy stats https://docs.scipy.org/doc/scipy/reference/stats.html\n",
    "*   tutorial 1 https://www.datacamp.com/community/tutorials/probability-distributions-python\n",
    "*   tutorial 2 https://web.stanford.edu/class/cs109/handouts/python.html\n",
    "\n",
    "\n",
    "\n",
    "\n"
   ],
   "metadata": {
    "id": "yJuvBH3Rw1C0"
   }
  },
  {
   "cell_type": "code",
   "source": [
    "import numpy as np\n",
    "import matplotlib.pyplot as plt\n",
    "plt.rcParams['figure.figsize'] = [8, 8]"
   ],
   "metadata": {
    "id": "dkAIO0kbxP1l"
   },
   "execution_count": 878,
   "outputs": []
  },
  {
   "cell_type": "markdown",
   "source": [
    "## Bernoulli\n",
    "\n",
    "$$X = \\begin{cases} 1, \\; w.p. \\; p\\\\ 0, \\; w.p. \\; 1-p \\end{cases}$$\n",
    "\n",
    "Support $\\{0,1 \\}$"
   ],
   "metadata": {
    "id": "VN_sM1FNxX1Z"
   }
  },
  {
   "cell_type": "code",
   "source": [
    "from scipy.stats import bernoulli"
   ],
   "metadata": {
    "id": "RvnAugOhxSLm"
   },
   "execution_count": 879,
   "outputs": []
  },
  {
   "cell_type": "code",
   "source": [
    "p = 0.3\n",
    "mean, var = bernoulli.stats(p, moments='mv')\n",
    "print(mean, var)"
   ],
   "metadata": {
    "colab": {
     "base_uri": "https://localhost:8080/"
    },
    "id": "_jgNplG5xcPx",
    "outputId": "c488ff2b-176e-4c5a-8fe6-92e853e27cce"
   },
   "execution_count": 880,
   "outputs": [
    {
     "name": "stdout",
     "output_type": "stream",
     "text": [
      "0.3 0.21\n"
     ]
    }
   ]
  },
  {
   "cell_type": "code",
   "source": [
    "rv_bernoulli = bernoulli(p)\n",
    "type(rv_bernoulli)"
   ],
   "metadata": {
    "colab": {
     "base_uri": "https://localhost:8080/"
    },
    "id": "rgou-6xpxfRx",
    "outputId": "5d5e8401-b2dd-48de-a007-429329f2738d"
   },
   "execution_count": 881,
   "outputs": [
    {
     "data": {
      "text/plain": "scipy.stats._distn_infrastructure.rv_frozen"
     },
     "execution_count": 881,
     "metadata": {},
     "output_type": "execute_result"
    }
   ]
  },
  {
   "cell_type": "code",
   "source": [
    "rv_bernoulli.pmf([0,1])"
   ],
   "metadata": {
    "colab": {
     "base_uri": "https://localhost:8080/"
    },
    "id": "k3D9ju3uzhwh",
    "outputId": "19131a63-a9e4-42a9-beed-ac8f0580e099"
   },
   "execution_count": 882,
   "outputs": [
    {
     "data": {
      "text/plain": "array([0.7, 0.3])"
     },
     "execution_count": 882,
     "metadata": {},
     "output_type": "execute_result"
    }
   ]
  },
  {
   "cell_type": "code",
   "source": [
    "rv_bernoulli.pmf([2])"
   ],
   "metadata": {
    "colab": {
     "base_uri": "https://localhost:8080/"
    },
    "id": "n-P7vEodzko5",
    "outputId": "76d783b2-edbd-435e-a51a-27bf2e240117"
   },
   "execution_count": 883,
   "outputs": [
    {
     "data": {
      "text/plain": "array([0.])"
     },
     "execution_count": 883,
     "metadata": {},
     "output_type": "execute_result"
    }
   ]
  },
  {
   "cell_type": "code",
   "source": [
    "plt.scatter([0,1],rv_bernoulli.pmf([0,1]))"
   ],
   "metadata": {
    "colab": {
     "base_uri": "https://localhost:8080/",
     "height": 282
    },
    "id": "nhw1r0HPznYh",
    "outputId": "eae24ed9-f456-4c7a-c0cc-5708e95509f7"
   },
   "execution_count": 884,
   "outputs": [
    {
     "data": {
      "text/plain": "<matplotlib.collections.PathCollection at 0x127acb4b760>"
     },
     "execution_count": 884,
     "metadata": {},
     "output_type": "execute_result"
    },
    {
     "data": {
      "text/plain": "<Figure size 576x576 with 1 Axes>",
      "image/png": "[encoded data removed]"
     },
     "metadata": {
      "needs_background": "light"
     },
     "output_type": "display_data"
    }
   ]
  },
  {
   "cell_type": "code",
   "source": [
    "rv_bernoulli.cdf([0,1])"
   ],
   "metadata": {
    "colab": {
     "base_uri": "https://localhost:8080/"
    },
    "id": "zrrp3OUjzqD6",
    "outputId": "3bd685c7-aeb5-4ae4-9ed6-ac93abbd7389"
   },
   "execution_count": 885,
   "outputs": [
    {
     "data": {
      "text/plain": "array([0.7, 1. ])"
     },
     "execution_count": 885,
     "metadata": {},
     "output_type": "execute_result"
    }
   ]
  },
  {
   "cell_type": "markdown",
   "source": [
    "**Подкидываем монетку!!!**"
   ],
   "metadata": {
    "id": "-ZuuFvI_ztam"
   }
  },
  {
   "cell_type": "code",
   "source": [
    "rv_bernoulli.rvs()"
   ],
   "metadata": {
    "colab": {
     "base_uri": "https://localhost:8080/"
    },
    "id": "HCcydmUzzvNd",
    "outputId": "7ea7e51e-8202-426d-e1d4-988d637ed73b"
   },
   "execution_count": 886,
   "outputs": [
    {
     "data": {
      "text/plain": "1"
     },
     "execution_count": 886,
     "metadata": {},
     "output_type": "execute_result"
    }
   ]
  },
  {
   "cell_type": "code",
   "source": [
    "rv_bernoulli.rvs(size=100)"
   ],
   "metadata": {
    "colab": {
     "base_uri": "https://localhost:8080/"
    },
    "id": "ujBTHBsBzxII",
    "outputId": "7ef82cf9-4bc1-4e40-f9b9-a6857158454d"
   },
   "execution_count": 887,
   "outputs": [
    {
     "data": {
      "text/plain": "array([1, 1, 1, 1, 0, 1, 1, 0, 0, 0, 0, 0, 0, 0, 1, 0, 0, 1, 1, 0, 0, 0,\n       0, 0, 1, 1, 0, 0, 0, 0, 0, 1, 1, 1, 0, 0, 1, 1, 0, 0, 1, 1, 0, 1,\n       1, 1, 0, 0, 0, 0, 1, 0, 0, 1, 1, 0, 0, 0, 0, 1, 1, 0, 0, 0, 0, 0,\n       1, 1, 0, 0, 0, 0, 0, 0, 0, 1, 1, 0, 1, 0, 0, 0, 0, 0, 0, 0, 0, 1,\n       1, 1, 0, 0, 0, 0, 1, 1, 1, 0, 0, 1])"
     },
     "execution_count": 887,
     "metadata": {},
     "output_type": "execute_result"
    }
   ]
  },
  {
   "cell_type": "markdown",
   "source": [
    "Постройте гистограмму распределения бернули для size=1000"
   ],
   "metadata": {
    "id": "EBNkqi6Bz1oM"
   }
  },
  {
   "cell_type": "code",
   "source": [
    "data = rv_bernoulli.rvs(size=1000)\n",
    "plt.hist(data)\n",
    "plt.show()"
   ],
   "metadata": {
    "id": "kNT-Hrec0L_h"
   },
   "execution_count": 888,
   "outputs": [
    {
     "data": {
      "text/plain": "<Figure size 576x576 with 1 Axes>",
      "image/png": "[encoded data removed]"
     },
     "metadata": {
      "needs_background": "light"
     },
     "output_type": "display_data"
    }
   ]
  },
  {
   "cell_type": "markdown",
   "source": [
    "## Binomial\n",
    "\n",
    "$$p_X(k)= \\binom{n}{k}p^k(1-p)^{n-k}$$\n",
    "\n",
    "Support $[0,n]$"
   ],
   "metadata": {
    "id": "8pD74vSV0K9I"
   }
  },
  {
   "cell_type": "code",
   "source": [
    "from scipy.stats import binom"
   ],
   "metadata": {
    "id": "ez2YMWT20Rpc"
   },
   "execution_count": 889,
   "outputs": []
  },
  {
   "cell_type": "code",
   "source": [
    "n, p = 10, 0.3"
   ],
   "metadata": {
    "id": "aoNW75i90VId"
   },
   "execution_count": 890,
   "outputs": []
  },
  {
   "cell_type": "code",
   "source": [
    "rv_binom = binom(n, p)\n",
    "mean, var = rv_binom.stats(moments='mv')\n",
    "print(mean, var)"
   ],
   "metadata": {
    "colab": {
     "base_uri": "https://localhost:8080/"
    },
    "id": "cqtgdU9t0YkO",
    "outputId": "5c5b986c-3289-4427-f93f-3ffd0b05bdd5"
   },
   "execution_count": 891,
   "outputs": [
    {
     "name": "stdout",
     "output_type": "stream",
     "text": [
      "3.0 2.0999999999999996\n"
     ]
    }
   ]
  },
  {
   "cell_type": "code",
   "source": [
    "rv_binom.var()"
   ],
   "metadata": {
    "colab": {
     "base_uri": "https://localhost:8080/"
    },
    "id": "TGhpCrsb0i7t",
    "outputId": "e7ff1190-ef34-42ad-d426-b99f562476cd"
   },
   "execution_count": 892,
   "outputs": [
    {
     "data": {
      "text/plain": "2.0999999999999996"
     },
     "execution_count": 892,
     "metadata": {},
     "output_type": "execute_result"
    }
   ]
  },
  {
   "cell_type": "code",
   "source": [
    "rv_binom.mean()"
   ],
   "metadata": {
    "colab": {
     "base_uri": "https://localhost:8080/"
    },
    "id": "tFbLPlOO0pxN",
    "outputId": "54209806-95a4-48bf-e425-7ad2b0fe5dd5"
   },
   "execution_count": 893,
   "outputs": [
    {
     "data": {
      "text/plain": "3.0"
     },
     "execution_count": 893,
     "metadata": {},
     "output_type": "execute_result"
    }
   ]
  },
  {
   "cell_type": "markdown",
   "source": [
    "Постройте точечный график биномиального распределения на отрезке [-10, 10]"
   ],
   "metadata": {
    "id": "syo0ItCL1CB1"
   }
  },
  {
   "cell_type": "code",
   "source": [
    "# is that right ??\n",
    "x = np.arange(-10, 11, 1)\n",
    "rv_binom2 = binom(len(x), 0.3)\n",
    "\n",
    "plt.scatter(x, rv_binom2.pmf(x))\n",
    "plt.xticks(x)\n",
    "plt.show()"
   ],
   "metadata": {
    "id": "Yi4UKzZe1Azv"
   },
   "execution_count": 894,
   "outputs": [
    {
     "data": {
      "text/plain": "<Figure size 576x576 with 1 Axes>",
      "image/png": "[encoded data removed]"
     },
     "metadata": {
      "needs_background": "light"
     },
     "output_type": "display_data"
    }
   ]
  },
  {
   "cell_type": "markdown",
   "source": [
    "$P(X=4)$ ?"
   ],
   "metadata": {
    "id": "-LrSq9qw1PN3"
   }
  },
  {
   "cell_type": "code",
   "source": [
    "X = 4\n",
    "rv_binom2.pmf(X)"
   ],
   "metadata": {
    "id": "rJUn95z91Oho"
   },
   "execution_count": 895,
   "outputs": [
    {
     "data": {
      "text/plain": "0.11277578372328766"
     },
     "execution_count": 895,
     "metadata": {},
     "output_type": "execute_result"
    }
   ]
  },
  {
   "cell_type": "markdown",
   "source": [
    "Постройте график кумулятивного биномиального распределения на отрезке [-10, 10]"
   ],
   "metadata": {
    "id": "BSoH7zvV1zas"
   }
  },
  {
   "cell_type": "code",
   "source": [
    "plt.scatter(x, rv_binom2.cdf(x))\n",
    "plt.xticks(x)\n",
    "plt.show()"
   ],
   "metadata": {
    "id": "oJ9DiKeb2G76"
   },
   "execution_count": 896,
   "outputs": [
    {
     "data": {
      "text/plain": "<Figure size 576x576 with 1 Axes>",
      "image/png": "[encoded data removed]"
     },
     "metadata": {
      "needs_background": "light"
     },
     "output_type": "display_data"
    }
   ]
  },
  {
   "cell_type": "markdown",
   "source": [
    "$P(X≤4)$ ?"
   ],
   "metadata": {
    "id": "3Y1I2YQj2HT8"
   }
  },
  {
   "cell_type": "code",
   "source": [
    "rv_binom2.cdf(X)"
   ],
   "metadata": {
    "id": "yf1ba-3S2J6p"
   },
   "execution_count": 897,
   "outputs": [
    {
     "data": {
      "text/plain": "0.19838148656544022"
     },
     "execution_count": 897,
     "metadata": {},
     "output_type": "execute_result"
    }
   ]
  },
  {
   "cell_type": "markdown",
   "source": [
    "### **Random samples**"
   ],
   "metadata": {
    "id": "LhZZJk2Q2Z5l"
   }
  },
  {
   "cell_type": "code",
   "source": [
    "rv_binom.rvs()"
   ],
   "metadata": {
    "colab": {
     "base_uri": "https://localhost:8080/"
    },
    "id": "QXkCluC02a_R",
    "outputId": "b17c97c3-cf6b-4170-823b-c0dfc7c63bb3"
   },
   "execution_count": 898,
   "outputs": [
    {
     "data": {
      "text/plain": "1"
     },
     "execution_count": 898,
     "metadata": {},
     "output_type": "execute_result"
    }
   ]
  },
  {
   "cell_type": "code",
   "source": [
    "rv_binom.rvs(100)"
   ],
   "metadata": {
    "colab": {
     "base_uri": "https://localhost:8080/"
    },
    "id": "UofEMAdi2rv6",
    "outputId": "39f29ffd-455f-4c5a-d668-95c892d6e2f9"
   },
   "execution_count": 899,
   "outputs": [
    {
     "data": {
      "text/plain": "array([3, 1, 1, 1, 5, 2, 4, 4, 2, 3, 4, 4, 3, 2, 6, 1, 3, 1, 1, 3, 4, 1,\n       2, 3, 5, 1, 5, 3, 2, 1, 3, 4, 2, 2, 5, 4, 5, 2, 6, 2, 3, 4, 6, 7,\n       2, 4, 1, 4, 3, 4, 6, 1, 0, 0, 4, 3, 3, 1, 4, 4, 3, 4, 4, 3, 1, 3,\n       4, 2, 2, 2, 3, 5, 5, 0, 3, 2, 4, 1, 2, 2, 3, 1, 3, 3, 4, 2, 4, 1,\n       3, 2, 4, 4, 3, 3, 3, 1, 1, 3, 3, 2])"
     },
     "execution_count": 899,
     "metadata": {},
     "output_type": "execute_result"
    }
   ]
  },
  {
   "cell_type": "markdown",
   "source": [
    "Постройте гистограмму биномиального распределения для size=10000, bins=10\n"
   ],
   "metadata": {
    "id": "OLPKr4EY27UO"
   }
  },
  {
   "cell_type": "code",
   "source": [
    "plt.vlines(rv_binom.mean(),0,10000*p, colors=['r'])"
   ],
   "metadata": {
    "id": "M2Q8OGNl3LJx"
   },
   "execution_count": 900,
   "outputs": [
    {
     "data": {
      "text/plain": "<matplotlib.collections.LineCollection at 0x127a747a2e0>"
     },
     "execution_count": 900,
     "metadata": {},
     "output_type": "execute_result"
    },
    {
     "data": {
      "text/plain": "<Figure size 576x576 with 1 Axes>",
      "image/png": "[encoded data removed]"
     },
     "metadata": {
      "needs_background": "light"
     },
     "output_type": "display_data"
    }
   ]
  },
  {
   "cell_type": "markdown",
   "source": [
    "Постройте для n = 10000"
   ],
   "metadata": {
    "id": "8h8ZvuEnQsEx"
   }
  },
  {
   "cell_type": "code",
   "source": [
    "n, p = 10000, 0.3\n",
    "rv_binom3 = binom(n, p)\n",
    "plt.hist(rv_binom.rvs(size=10000), bins=10)\n",
    "plt.show()"
   ],
   "metadata": {
    "id": "ejQA4LGNQ6da"
   },
   "execution_count": 901,
   "outputs": [
    {
     "data": {
      "text/plain": "<Figure size 576x576 with 1 Axes>",
      "image/png": "[encoded data removed]"
     },
     "metadata": {
      "needs_background": "light"
     },
     "output_type": "display_data"
    }
   ]
  },
  {
   "cell_type": "markdown",
   "source": [
    "## Poisson\n",
    "\n",
    "$$p_X(k)=e^{- \\lambda}\\frac{\\lambda^k}{k!}$$"
   ],
   "metadata": {
    "id": "_o2vd0RwQ63q"
   }
  },
  {
   "cell_type": "code",
   "source": [
    "from scipy.stats import poisson"
   ],
   "metadata": {
    "id": "DcgLl2mLQ81b"
   },
   "execution_count": 902,
   "outputs": []
  },
  {
   "cell_type": "code",
   "source": [
    "mu = 6\n",
    "rv_poisson = poisson(mu)\n",
    "rv_poisson.std()"
   ],
   "metadata": {
    "colab": {
     "base_uri": "https://localhost:8080/"
    },
    "id": "O6y2KGqvRCZI",
    "outputId": "47a8e62a-19c6-4f4b-d7d7-cbad198aafde"
   },
   "execution_count": 903,
   "outputs": [
    {
     "data": {
      "text/plain": "2.449489742783178"
     },
     "execution_count": 903,
     "metadata": {},
     "output_type": "execute_result"
    }
   ]
  },
  {
   "cell_type": "code",
   "source": [
    "x = np.arange(-2,20,1)\n",
    "plt.scatter(x, rv_poisson.pmf(x))\n",
    "plt.show()"
   ],
   "metadata": {
    "colab": {
     "base_uri": "https://localhost:8080/",
     "height": 282
    },
    "id": "pNf14r5mRWiS",
    "outputId": "e6746a99-14d1-449f-a169-cf4a860a1b4e"
   },
   "execution_count": 904,
   "outputs": [
    {
     "data": {
      "text/plain": "<Figure size 576x576 with 1 Axes>",
      "image/png": "[encoded data removed]"
     },
     "metadata": {
      "needs_background": "light"
     },
     "output_type": "display_data"
    }
   ]
  },
  {
   "cell_type": "markdown",
   "source": [
    "$P(X≤10)$"
   ],
   "metadata": {
    "id": "2RpGBm4URbLD"
   }
  },
  {
   "cell_type": "code",
   "source": [
    "rv_poisson.cdf(10)"
   ],
   "metadata": {
    "id": "kiDypMWmRXlb"
   },
   "execution_count": 905,
   "outputs": [
    {
     "data": {
      "text/plain": "0.957379076417462"
     },
     "execution_count": 905,
     "metadata": {},
     "output_type": "execute_result"
    }
   ]
  },
  {
   "cell_type": "markdown",
   "source": [
    "$P(X=10)$"
   ],
   "metadata": {
    "id": "pH5CBrb0RclL"
   }
  },
  {
   "cell_type": "code",
   "source": [
    "rv_poisson.pmf(10)"
   ],
   "metadata": {
    "id": "_aujjEqVRfbj"
   },
   "execution_count": 906,
   "outputs": [
    {
     "data": {
      "text/plain": "0.04130309341233764"
     },
     "execution_count": 906,
     "metadata": {},
     "output_type": "execute_result"
    }
   ]
  },
  {
   "cell_type": "markdown",
   "source": [
    "Постройте гистограмму распределения Пуассона bins = 12, и границы стандартного отклонения"
   ],
   "metadata": {
    "id": "ZjpSmHi4RsAf"
   }
  },
  {
   "cell_type": "code",
   "source": [
    "fig , ax = plt.subplots(1, 1)\n",
    "ax.hist(rv_poisson.rvs(100), bins=12)\n",
    "ax.axhline(rv_poisson.std(), color='r')\n",
    "plt.show()"
   ],
   "metadata": {
    "id": "-Z44iwwkR478"
   },
   "execution_count": 907,
   "outputs": [
    {
     "data": {
      "text/plain": "<Figure size 576x576 with 1 Axes>",
      "image/png": "[encoded data removed]"
     },
     "metadata": {
      "needs_background": "light"
     },
     "output_type": "display_data"
    }
   ]
  },
  {
   "cell_type": "markdown",
   "source": [
    "# **Continuous distributions**"
   ],
   "metadata": {
    "id": "oQJ2yl4TSMDi"
   }
  },
  {
   "cell_type": "markdown",
   "source": [
    "## **Uniform (равномерное)**"
   ],
   "metadata": {
    "id": "qy7uBAS2SSoH"
   }
  },
  {
   "cell_type": "code",
   "source": [
    "from scipy.stats import uniform"
   ],
   "metadata": {
    "id": "mAjeEv12SaHh"
   },
   "execution_count": 908,
   "outputs": []
  },
  {
   "cell_type": "markdown",
   "source": [
    "## Uniform supported $[0,1]$\n",
    "\n",
    "$f_X(X)=1$, if $x \\in [0,1]$\n",
    "\n",
    "Support $[0,1]$"
   ],
   "metadata": {
    "id": "KC_F6p-PScFe"
   }
  },
  {
   "cell_type": "code",
   "source": [
    "rv_uniform_1 = uniform()"
   ],
   "metadata": {
    "id": "FrTrGNIrSeXs"
   },
   "execution_count": 909,
   "outputs": []
  },
  {
   "cell_type": "code",
   "source": [
    "print(rv_uniform_1.mean())\n",
    "print(rv_uniform_1.var())"
   ],
   "metadata": {
    "colab": {
     "base_uri": "https://localhost:8080/"
    },
    "id": "ICqCf0MlShng",
    "outputId": "edc05121-149f-4261-db29-723fabf2515a"
   },
   "execution_count": 910,
   "outputs": [
    {
     "name": "stdout",
     "output_type": "stream",
     "text": [
      "0.5\n",
      "0.08333333333333333\n"
     ]
    }
   ]
  },
  {
   "cell_type": "code",
   "source": [
    "plt.plot([-1,-0.01,0,1,1.01,2], rv_uniform_1.pdf([-1,-0.01,0,1,1.01,2]))"
   ],
   "metadata": {
    "colab": {
     "base_uri": "https://localhost:8080/",
     "height": 282
    },
    "id": "IRy6-DdBSkqu",
    "outputId": "955d7c3a-1337-40d0-a06e-601330d5a671"
   },
   "execution_count": 911,
   "outputs": [
    {
     "data": {
      "text/plain": "[<matplotlib.lines.Line2D at 0x127af52aac0>]"
     },
     "execution_count": 911,
     "metadata": {},
     "output_type": "execute_result"
    },
    {
     "data": {
      "text/plain": "<Figure size 576x576 with 1 Axes>",
      "image/png": "[encoded data removed]"
     },
     "metadata": {
      "needs_background": "light"
     },
     "output_type": "display_data"
    }
   ]
  },
  {
   "cell_type": "code",
   "source": [
    "plt.plot([-1,-0.01,0,1,1.01,2], rv_uniform_1.cdf([-1,-0.01,0,1,1.01,2]))"
   ],
   "metadata": {
    "colab": {
     "base_uri": "https://localhost:8080/",
     "height": 282
    },
    "id": "cMvGZBnYS7k3",
    "outputId": "d2407071-a10e-46bc-df47-4b59c76d8863"
   },
   "execution_count": 912,
   "outputs": [
    {
     "data": {
      "text/plain": "[<matplotlib.lines.Line2D at 0x127ae1056d0>]"
     },
     "execution_count": 912,
     "metadata": {},
     "output_type": "execute_result"
    },
    {
     "data": {
      "text/plain": "<Figure size 576x576 with 1 Axes>",
      "image/png": "[encoded data removed]"
     },
     "metadata": {
      "needs_background": "light"
     },
     "output_type": "display_data"
    }
   ]
  },
  {
   "cell_type": "markdown",
   "source": [
    "Постройте гистограмму равномерного распределения для size=1000"
   ],
   "metadata": {
    "id": "FIiCJuNWTLjq"
   }
  },
  {
   "cell_type": "code",
   "source": [
    "plt.hist(rv_uniform_1.rvs(1000))\n",
    "plt.show()"
   ],
   "metadata": {
    "id": "q7PyDM9KUDNX"
   },
   "execution_count": 913,
   "outputs": [
    {
     "data": {
      "text/plain": "<Figure size 576x576 with 1 Axes>",
      "image/png": "[encoded data removed]"
     },
     "metadata": {
      "needs_background": "light"
     },
     "output_type": "display_data"
    }
   ]
  },
  {
   "cell_type": "markdown",
   "source": [
    "## Exponential\n",
    "\n",
    "$$f_X(x)= \\begin{cases} \\lambda e^{- \\lambda x}, x≥0\\\\ 0, x<0 \\end{cases}$$\n",
    "\n",
    "$$E[X]=\\frac{1}{\\lambda}$$\n",
    "\n",
    "$$Var[X]=\\frac{1}{\\lambda^2}$$\n",
    "\n",
    "Support $[0,+\\infty]$"
   ],
   "metadata": {
    "id": "W4ZMzFC9UDma"
   }
  },
  {
   "cell_type": "code",
   "source": [
    "from scipy.stats import expon"
   ],
   "metadata": {
    "id": "QfmG8bxEUEOr"
   },
   "execution_count": 914,
   "outputs": []
  },
  {
   "cell_type": "code",
   "source": [
    "lamb = 1\n",
    "rv_exp_1 = expon(scale=1/lamb, loc=0)\n",
    "print(rv_exp_1.mean())\n",
    "print(rv_exp_1.var())"
   ],
   "metadata": {
    "colab": {
     "base_uri": "https://localhost:8080/"
    },
    "id": "ijuL04RmUIuC",
    "outputId": "e5263aab-31e7-42d9-9954-306872df88bf"
   },
   "execution_count": 915,
   "outputs": [
    {
     "name": "stdout",
     "output_type": "stream",
     "text": [
      "1.0\n",
      "1.0\n"
     ]
    }
   ]
  },
  {
   "cell_type": "code",
   "source": [
    "x = np.arange(-1,20,0.1)\n",
    "plt.plot(x,rv_exp_1.pdf(x))\n",
    "plt.vlines(rv_exp_1.mean(),0,0.9, colors=['r'])"
   ],
   "metadata": {
    "colab": {
     "base_uri": "https://localhost:8080/",
     "height": 282
    },
    "id": "y6mTGB9RULlK",
    "outputId": "8c484918-8efe-4982-e557-565fa17155a0"
   },
   "execution_count": 916,
   "outputs": [
    {
     "data": {
      "text/plain": "<matplotlib.collections.LineCollection at 0x127af643d90>"
     },
     "execution_count": 916,
     "metadata": {},
     "output_type": "execute_result"
    },
    {
     "data": {
      "text/plain": "<Figure size 576x576 with 1 Axes>",
      "image/png": "[encoded data removed]"
     },
     "metadata": {
      "needs_background": "light"
     },
     "output_type": "display_data"
    }
   ]
  },
  {
   "cell_type": "code",
   "source": [
    "lamb = 0.5\n",
    "rv_exp_3 = expon(scale=1/lamb, loc=0)\n",
    "print(rv_exp_3.mean())\n",
    "print(rv_exp_3.var())\n",
    "\n",
    "plt.plot(x,rv_exp_3.pdf(x))\n",
    "plt.vlines(rv_exp_3.mean(),0,0.4, colors=['r'])"
   ],
   "metadata": {
    "colab": {
     "base_uri": "https://localhost:8080/",
     "height": 317
    },
    "id": "U_5AcGNvUcSP",
    "outputId": "fb2e703a-f156-41ad-ed8a-23a2ae214970"
   },
   "execution_count": 917,
   "outputs": [
    {
     "name": "stdout",
     "output_type": "stream",
     "text": [
      "2.0\n",
      "4.0\n"
     ]
    },
    {
     "data": {
      "text/plain": "<matplotlib.collections.LineCollection at 0x127acba0460>"
     },
     "execution_count": 917,
     "metadata": {},
     "output_type": "execute_result"
    },
    {
     "data": {
      "text/plain": "<Figure size 576x576 with 1 Axes>",
      "image/png": "[encoded data removed]"
     },
     "metadata": {
      "needs_background": "light"
     },
     "output_type": "display_data"
    }
   ]
  },
  {
   "cell_type": "markdown",
   "source": [
    "Допустим, что смещённым экспоненциальным распределением с праметром $\\lambda=0.5$ моделируется время до сбоя двигателя в автомобиле после 10 лет эксплуатации. Сколько месяцев отработает двигатель при вероятности сбоя в 60%?\n",
    "\n",
    "$q_\\alpha=F^{-1}(1-\\alpha)=F^{-1}(0.6)$"
   ],
   "metadata": {
    "id": "_UxPOjnkUim-"
   }
  },
  {
   "cell_type": "code",
   "source": [
    "lamb = 0.5\n",
    "rv_exp_d = expon(scale=1/lamb, loc=0)\n",
    "\n",
    "rv_exp_d.isf(0.6)"
   ],
   "metadata": {
    "id": "u_Fil7wmUjPb"
   },
   "execution_count": 918,
   "outputs": [
    {
     "data": {
      "text/plain": "1.0216512475319814"
     },
     "execution_count": 918,
     "metadata": {},
     "output_type": "execute_result"
    }
   ]
  },
  {
   "cell_type": "markdown",
   "source": [
    "## Normal\n",
    "\n",
    "$$N(\\mu,\\sigma^2): \\; f_X(x)=\\frac{1}{\\sigma\\sqrt{2 \\pi}}e^{-\\frac{1}{2 \\sigma^2}(x-\\mu)^2}$$\n",
    "\n",
    "$$E[X]=\\mu, \\; Var(X)=\\sigma^2$$\n",
    "\n",
    "Support $[-\\infty,+\\infty]$"
   ],
   "metadata": {
    "id": "FPNExJ7hUuwQ"
   }
  },
  {
   "cell_type": "code",
   "source": [
    "from scipy.stats import norm"
   ],
   "metadata": {
    "id": "4_XziMW-U2Jj"
   },
   "execution_count": 919,
   "outputs": []
  },
  {
   "cell_type": "code",
   "source": [
    "mu=0\n",
    "sigma=1\n",
    "rv_norm_1 = norm(loc=mu, scale=sigma)\n",
    "print(rv_norm_1.mean())\n",
    "print(rv_norm_1.var())"
   ],
   "metadata": {
    "colab": {
     "base_uri": "https://localhost:8080/"
    },
    "id": "3qCAUS36U2rP",
    "outputId": "471bdc7f-1cae-41ae-eb71-969201ce3713"
   },
   "execution_count": 920,
   "outputs": [
    {
     "name": "stdout",
     "output_type": "stream",
     "text": [
      "0.0\n",
      "1.0\n"
     ]
    }
   ]
  },
  {
   "cell_type": "code",
   "source": [
    "x = np.arange(-10,10,0.1)\n",
    "plt.plot(x,rv_norm_1.pdf(x))"
   ],
   "metadata": {
    "colab": {
     "base_uri": "https://localhost:8080/",
     "height": 282
    },
    "id": "LEGWtwEEU7YZ",
    "outputId": "c5e2f847-2f6f-4984-80df-2c8aa61c7497"
   },
   "execution_count": 921,
   "outputs": [
    {
     "data": {
      "text/plain": "[<matplotlib.lines.Line2D at 0x127ade5a640>]"
     },
     "execution_count": 921,
     "metadata": {},
     "output_type": "execute_result"
    },
    {
     "data": {
      "text/plain": "<Figure size 576x576 with 1 Axes>",
      "image/png": "[encoded data removed]"
     },
     "metadata": {
      "needs_background": "light"
     },
     "output_type": "display_data"
    }
   ]
  },
  {
   "cell_type": "code",
   "source": [
    "mu=0\n",
    "sigma=4\n",
    "rv_norm_2 = norm(loc=mu, scale=sigma)\n",
    "print(rv_norm_2.mean())\n",
    "print(rv_norm_2.var())"
   ],
   "metadata": {
    "colab": {
     "base_uri": "https://localhost:8080/"
    },
    "id": "O7ksDoTDVL1G",
    "outputId": "7fef8b13-0e32-4316-b70a-accbab0cb6d9"
   },
   "execution_count": 922,
   "outputs": [
    {
     "name": "stdout",
     "output_type": "stream",
     "text": [
      "0.0\n",
      "16.0\n"
     ]
    }
   ]
  },
  {
   "cell_type": "code",
   "source": [
    "x = np.arange(-10,10,0.1)\n",
    "plt.plot(x,rv_norm_2.pdf(x))"
   ],
   "metadata": {
    "colab": {
     "base_uri": "https://localhost:8080/",
     "height": 282
    },
    "id": "Ru72xJANVPTd",
    "outputId": "b6bbdefa-7f58-4dd2-df72-89e8770b2b23"
   },
   "execution_count": 923,
   "outputs": [
    {
     "data": {
      "text/plain": "[<matplotlib.lines.Line2D at 0x127adf12280>]"
     },
     "execution_count": 923,
     "metadata": {},
     "output_type": "execute_result"
    },
    {
     "data": {
      "text/plain": "<Figure size 576x576 with 1 Axes>",
      "image/png": "[encoded data removed]"
     },
     "metadata": {
      "needs_background": "light"
     },
     "output_type": "display_data"
    }
   ]
  },
  {
   "cell_type": "markdown",
   "source": [
    "$P(X≤-100)$"
   ],
   "metadata": {
    "id": "3Ymv_1hnVUgl"
   }
  },
  {
   "cell_type": "code",
   "source": [
    "rv_norm_2.cdf(-100)"
   ],
   "metadata": {
    "id": "HZ4h2u6rVT5q"
   },
   "execution_count": 935,
   "outputs": [
    {
     "data": {
      "text/plain": "3.056696706382561e-138"
     },
     "execution_count": 935,
     "metadata": {},
     "output_type": "execute_result"
    }
   ]
  },
  {
   "cell_type": "markdown",
   "source": [
    "Предположим, что распределение роста студентов Владивостока моделируется нормальным распределением с параметрами 𝜇=175, 𝜎=20. Какова вероятность найти студента с ростом меньше 140 см?"
   ],
   "metadata": {
    "id": "RpWmx3EAVd7d"
   }
  },
  {
   "cell_type": "code",
   "source": [
    "mu = 175\n",
    "sigma = 20\n",
    "rv_norm_d = norm(loc=mu, scale=sigma)\n",
    "rv_norm_d.cdf(140)"
   ],
   "metadata": {
    "id": "1zzknudPVe6s"
   },
   "execution_count": 931,
   "outputs": [
    {
     "data": {
      "text/plain": "0.040059156863817086"
     },
     "execution_count": 931,
     "metadata": {},
     "output_type": "execute_result"
    }
   ]
  }
 ]
}
