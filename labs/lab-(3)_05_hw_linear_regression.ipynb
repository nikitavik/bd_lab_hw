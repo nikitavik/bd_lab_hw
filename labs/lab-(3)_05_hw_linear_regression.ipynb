{
 "nbformat": 4,
 "nbformat_minor": 0,
 "metadata": {
  "colab": {
   "provenance": [],
   "authorship_tag": "ABX9TyM7kOq/65HwZWhMZPG+rE8x"
  },
  "kernelspec": {
   "name": "python3",
   "display_name": "Python 3"
  },
  "language_info": {
   "name": "python"
  }
 },
 "cells": [
  {
   "cell_type": "markdown",
   "source": [
    "Решать будем задачу с Kaggle про предсказание длины поездки в такси [New York City Taxi Trip Duration](https://www.kaggle.com/c/nyc-taxi-trip-duration/overview).\n",
    "\n",
    "Первым делом необходимо скачать данные. Воспользуйтесь следующей инструкцией: [Как скачать данные с kaggle в colab.](https://medium.com/@saedhussain/google-colaboratory-and-kaggle-datasets-b57a83eb6ef8) Ниже есть необходимый код, вам нужно лишь запрость токен на kaggle и загрузить его."
   ],
   "metadata": {
    "id": "3lNc4lXIdeqV"
   }
  },
  {
   "cell_type": "code",
   "execution_count": 622,
   "metadata": {
    "id": "jnFB_nVqRnT3",
    "executionInfo": {
     "status": "ok",
     "timestamp": 1668755014423,
     "user_tz": -600,
     "elapsed": 4161,
     "user": {
      "displayName": "Николай Пак",
      "userId": "09943008863308563402"
     }
    }
   },
   "outputs": [],
   "source": [
    "# !pip install -q kaggle"
   ]
  },
  {
   "cell_type": "code",
   "source": [
    "# from google.colab import files\n",
    "# uploaded = files.upload()"
   ],
   "metadata": {
    "colab": {
     "base_uri": "https://localhost:8080/",
     "height": 73
    },
    "id": "RLGPtoOkRwi1",
    "executionInfo": {
     "status": "ok",
     "timestamp": 1668755057153,
     "user_tz": -600,
     "elapsed": 8297,
     "user": {
      "displayName": "Николай Пак",
      "userId": "09943008863308563402"
     }
    },
    "outputId": "feac140c-9fe8-4534-f0fa-73ce69fde2ee"
   },
   "execution_count": 623,
   "outputs": []
  },
  {
   "cell_type": "code",
   "source": [
    "# !mkdir /root/.kaggle\n",
    "# !mv kaggle.json /root/.kaggle/kaggle.json\n",
    "# !kaggle competitions download -c nyc-taxi-trip-duration\n",
    "# !unzip \"/content/nyc-taxi-trip-duration.zip\" -d \"/content\""
   ],
   "metadata": {
    "colab": {
     "base_uri": "https://localhost:8080/"
    },
    "id": "uAN9viiqRxPK",
    "executionInfo": {
     "status": "ok",
     "timestamp": 1668755081187,
     "user_tz": -600,
     "elapsed": 3935,
     "user": {
      "displayName": "Николай Пак",
      "userId": "09943008863308563402"
     }
    },
    "outputId": "c7e575e9-9335-4280-d188-7b0490ecab38"
   },
   "execution_count": 624,
   "outputs": []
  },
  {
   "cell_type": "code",
   "source": [
    "# import seaborn as sns\n",
    "import pandas as pd\n",
    "import numpy as np\n",
    "from matplotlib import pyplot as plt\n",
    "\n",
    "df = pd.read_csv('train.zip', compression='zip', header=0, sep=',', quotechar='\"')"
   ],
   "metadata": {
    "id": "ept7cXrYR21h",
    "executionInfo": {
     "status": "ok",
     "timestamp": 1668755114275,
     "user_tz": -600,
     "elapsed": 7201,
     "user": {
      "displayName": "Николай Пак",
      "userId": "09943008863308563402"
     }
    }
   },
   "execution_count": 625,
   "outputs": []
  },
  {
   "cell_type": "code",
   "source": [
    "df.head()"
   ],
   "metadata": {
    "colab": {
     "base_uri": "https://localhost:8080/",
     "height": 206
    },
    "id": "Z7_8OyArR5pS",
    "executionInfo": {
     "status": "ok",
     "timestamp": 1668755225336,
     "user_tz": -600,
     "elapsed": 799,
     "user": {
      "displayName": "Николай Пак",
      "userId": "09943008863308563402"
     }
    },
    "outputId": "2400620b-8686-4023-f16b-f836c181a756"
   },
   "execution_count": 626,
   "outputs": [
    {
     "data": {
      "text/plain": "          id  vendor_id      pickup_datetime     dropoff_datetime  \\\n0  id2875421          2  2016-03-14 17:24:55  2016-03-14 17:32:30   \n1  id2377394          1  2016-06-12 00:43:35  2016-06-12 00:54:38   \n2  id3858529          2  2016-01-19 11:35:24  2016-01-19 12:10:48   \n3  id3504673          2  2016-04-06 19:32:31  2016-04-06 19:39:40   \n4  id2181028          2  2016-03-26 13:30:55  2016-03-26 13:38:10   \n\n   passenger_count  pickup_longitude  pickup_latitude  dropoff_longitude  \\\n0                1        -73.982155        40.767937         -73.964630   \n1                1        -73.980415        40.738564         -73.999481   \n2                1        -73.979027        40.763939         -74.005333   \n3                1        -74.010040        40.719971         -74.012268   \n4                1        -73.973053        40.793209         -73.972923   \n\n   dropoff_latitude store_and_fwd_flag  trip_duration  \n0         40.765602                  N            455  \n1         40.731152                  N            663  \n2         40.710087                  N           2124  \n3         40.706718                  N            429  \n4         40.782520                  N            435  ",
      "text/html": "<div>\n<style scoped>\n    .dataframe tbody tr th:only-of-type {\n        vertical-align: middle;\n    }\n\n    .dataframe tbody tr th {\n        vertical-align: top;\n    }\n\n    .dataframe thead th {\n        text-align: right;\n    }\n</style>\n<table border=\"1\" class=\"dataframe\">\n  <thead>\n    <tr style=\"text-align: right;\">\n      <th></th>\n      <th>id</th>\n      <th>vendor_id</th>\n      <th>pickup_datetime</th>\n      <th>dropoff_datetime</th>\n      <th>passenger_count</th>\n      <th>pickup_longitude</th>\n      <th>pickup_latitude</th>\n      <th>dropoff_longitude</th>\n      <th>dropoff_latitude</th>\n      <th>store_and_fwd_flag</th>\n      <th>trip_duration</th>\n    </tr>\n  </thead>\n  <tbody>\n    <tr>\n      <th>0</th>\n      <td>id2875421</td>\n      <td>2</td>\n      <td>2016-03-14 17:24:55</td>\n      <td>2016-03-14 17:32:30</td>\n      <td>1</td>\n      <td>-73.982155</td>\n      <td>40.767937</td>\n      <td>-73.964630</td>\n      <td>40.765602</td>\n      <td>N</td>\n      <td>455</td>\n    </tr>\n    <tr>\n      <th>1</th>\n      <td>id2377394</td>\n      <td>1</td>\n      <td>2016-06-12 00:43:35</td>\n      <td>2016-06-12 00:54:38</td>\n      <td>1</td>\n      <td>-73.980415</td>\n      <td>40.738564</td>\n      <td>-73.999481</td>\n      <td>40.731152</td>\n      <td>N</td>\n      <td>663</td>\n    </tr>\n    <tr>\n      <th>2</th>\n      <td>id3858529</td>\n      <td>2</td>\n      <td>2016-01-19 11:35:24</td>\n      <td>2016-01-19 12:10:48</td>\n      <td>1</td>\n      <td>-73.979027</td>\n      <td>40.763939</td>\n      <td>-74.005333</td>\n      <td>40.710087</td>\n      <td>N</td>\n      <td>2124</td>\n    </tr>\n    <tr>\n      <th>3</th>\n      <td>id3504673</td>\n      <td>2</td>\n      <td>2016-04-06 19:32:31</td>\n      <td>2016-04-06 19:39:40</td>\n      <td>1</td>\n      <td>-74.010040</td>\n      <td>40.719971</td>\n      <td>-74.012268</td>\n      <td>40.706718</td>\n      <td>N</td>\n      <td>429</td>\n    </tr>\n    <tr>\n      <th>4</th>\n      <td>id2181028</td>\n      <td>2</td>\n      <td>2016-03-26 13:30:55</td>\n      <td>2016-03-26 13:38:10</td>\n      <td>1</td>\n      <td>-73.973053</td>\n      <td>40.793209</td>\n      <td>-73.972923</td>\n      <td>40.782520</td>\n      <td>N</td>\n      <td>435</td>\n    </tr>\n  </tbody>\n</table>\n</div>"
     },
     "execution_count": 626,
     "metadata": {},
     "output_type": "execute_result"
    }
   ]
  },
  {
   "cell_type": "code",
   "source": [
    "df = df.drop(['dropoff_datetime', 'store_and_fwd_flag', 'id'], axis=1)"
   ],
   "metadata": {
    "id": "FVjTMAq6ciae",
    "executionInfo": {
     "status": "ok",
     "timestamp": 1668755219630,
     "user_tz": -600,
     "elapsed": 458,
     "user": {
      "displayName": "Николай Пак",
      "userId": "09943008863308563402"
     }
    }
   },
   "execution_count": 627,
   "outputs": []
  },
  {
   "cell_type": "code",
   "source": [
    "import datetime as dt\n",
    "df.pickup_datetime = pd.to_datetime(df.pickup_datetime).map(dt.datetime.toordinal)"
   ],
   "metadata": {
    "id": "Ezza5hw8TA4H",
    "executionInfo": {
     "status": "ok",
     "timestamp": 1668755275141,
     "user_tz": -600,
     "elapsed": 341,
     "user": {
      "displayName": "Николай Пак",
      "userId": "09943008863308563402"
     }
    }
   },
   "execution_count": 628,
   "outputs": []
  },
  {
   "cell_type": "code",
   "source": [
    "df = df.sort_values(by='pickup_datetime')"
   ],
   "metadata": {
    "id": "eOE4xEyYbxuO",
    "executionInfo": {
     "status": "ok",
     "timestamp": 1668755292951,
     "user_tz": -600,
     "elapsed": 828,
     "user": {
      "displayName": "Николай Пак",
      "userId": "09943008863308563402"
     }
    }
   },
   "execution_count": 629,
   "outputs": []
  },
  {
   "cell_type": "code",
   "source": [
    "df.head()"
   ],
   "metadata": {
    "colab": {
     "base_uri": "https://localhost:8080/",
     "height": 206
    },
    "id": "RjemiEM9cDPj",
    "executionInfo": {
     "status": "ok",
     "timestamp": 1668755242281,
     "user_tz": -600,
     "elapsed": 347,
     "user": {
      "displayName": "Николай Пак",
      "userId": "09943008863308563402"
     }
    },
    "outputId": "b4e4d34d-5c7a-4c45-e7f3-e127cdd75238"
   },
   "execution_count": 630,
   "outputs": [
    {
     "data": {
      "text/plain": "         vendor_id  pickup_datetime  passenger_count  pickup_longitude  \\\n333752           1           735964                1        -73.963486   \n616306           1           735964                1        -73.998032   \n1391034          1           735964                1        -74.005302   \n1138825          2           735964                1        -73.977592   \n537651           2           735964                2        -73.956978   \n\n         pickup_latitude  dropoff_longitude  dropoff_latitude  trip_duration  \n333752         40.768528         -73.969521         40.757580            274  \n616306         40.751167         -73.976761         40.751854            455  \n1391034        40.728542         -73.978622         40.764221           1070  \n1138825        40.632847         -73.977592         40.632847            413  \n537651         40.770802         -73.979050         40.785332            540  ",
      "text/html": "<div>\n<style scoped>\n    .dataframe tbody tr th:only-of-type {\n        vertical-align: middle;\n    }\n\n    .dataframe tbody tr th {\n        vertical-align: top;\n    }\n\n    .dataframe thead th {\n        text-align: right;\n    }\n</style>\n<table border=\"1\" class=\"dataframe\">\n  <thead>\n    <tr style=\"text-align: right;\">\n      <th></th>\n      <th>vendor_id</th>\n      <th>pickup_datetime</th>\n      <th>passenger_count</th>\n      <th>pickup_longitude</th>\n      <th>pickup_latitude</th>\n      <th>dropoff_longitude</th>\n      <th>dropoff_latitude</th>\n      <th>trip_duration</th>\n    </tr>\n  </thead>\n  <tbody>\n    <tr>\n      <th>333752</th>\n      <td>1</td>\n      <td>735964</td>\n      <td>1</td>\n      <td>-73.963486</td>\n      <td>40.768528</td>\n      <td>-73.969521</td>\n      <td>40.757580</td>\n      <td>274</td>\n    </tr>\n    <tr>\n      <th>616306</th>\n      <td>1</td>\n      <td>735964</td>\n      <td>1</td>\n      <td>-73.998032</td>\n      <td>40.751167</td>\n      <td>-73.976761</td>\n      <td>40.751854</td>\n      <td>455</td>\n    </tr>\n    <tr>\n      <th>1391034</th>\n      <td>1</td>\n      <td>735964</td>\n      <td>1</td>\n      <td>-74.005302</td>\n      <td>40.728542</td>\n      <td>-73.978622</td>\n      <td>40.764221</td>\n      <td>1070</td>\n    </tr>\n    <tr>\n      <th>1138825</th>\n      <td>2</td>\n      <td>735964</td>\n      <td>1</td>\n      <td>-73.977592</td>\n      <td>40.632847</td>\n      <td>-73.977592</td>\n      <td>40.632847</td>\n      <td>413</td>\n    </tr>\n    <tr>\n      <th>537651</th>\n      <td>2</td>\n      <td>735964</td>\n      <td>2</td>\n      <td>-73.956978</td>\n      <td>40.770802</td>\n      <td>-73.979050</td>\n      <td>40.785332</td>\n      <td>540</td>\n    </tr>\n  </tbody>\n</table>\n</div>"
     },
     "execution_count": 630,
     "metadata": {},
     "output_type": "execute_result"
    }
   ]
  },
  {
   "cell_type": "code",
   "source": [
    "df.trip_duration.hist(bins=100, grid=False, )\n",
    "plt.show()"
   ],
   "metadata": {
    "colab": {
     "base_uri": "https://localhost:8080/",
     "height": 306
    },
    "id": "1xlcghuIcmFw",
    "executionInfo": {
     "status": "ok",
     "timestamp": 1668755315311,
     "user_tz": -600,
     "elapsed": 813,
     "user": {
      "displayName": "Николай Пак",
      "userId": "09943008863308563402"
     }
    },
    "outputId": "c11f2ec1-18d1-49d0-c567-6e71e3ae53c7"
   },
   "execution_count": 631,
   "outputs": [
    {
     "data": {
      "text/plain": "<Figure size 432x288 with 1 Axes>",
      "image/png": "[encoded data removed]"
     },
     "metadata": {},
     "output_type": "display_data"
    }
   ]
  },
  {
   "cell_type": "code",
   "source": [
    "np.log1p(df.trip_duration).hist(bins=100, grid=False)\n",
    "plt.show()"
   ],
   "metadata": {
    "colab": {
     "base_uri": "https://localhost:8080/",
     "height": 282
    },
    "id": "L8o8uPEDc80Z",
    "executionInfo": {
     "status": "ok",
     "timestamp": 1668755348013,
     "user_tz": -600,
     "elapsed": 862,
     "user": {
      "displayName": "Николай Пак",
      "userId": "09943008863308563402"
     }
    },
    "outputId": "04a206d4-daef-4906-d40e-d9927ab23bf5"
   },
   "execution_count": 632,
   "outputs": [
    {
     "data": {
      "text/plain": "<Figure size 432x288 with 1 Axes>",
      "image/png": "[encoded data removed]"
     },
     "metadata": {},
     "output_type": "display_data"
    }
   ]
  },
  {
   "cell_type": "markdown",
   "source": [
    "Построить линейную регрессию зависимости trip_duration от других переменных двумя способами"
   ],
   "metadata": {
    "id": "TExHIvOFdTYs"
   }
  },
  {
   "cell_type": "code",
   "execution_count": 633,
   "outputs": [],
   "source": [
    "from math import radians, sin, cos, sqrt, atan2\n",
    "def haversine(row):\n",
    "    # Approximate radius of Earth in km\n",
    "    R = 6371.0\n",
    "\n",
    "    lat1 = radians(row['pickup_latitude'])\n",
    "    lon1 = radians(row['pickup_longitude'])\n",
    "    lat2 = radians(row['dropoff_latitude'])\n",
    "    lon2 = radians(row['dropoff_longitude'])\n",
    "\n",
    "    dlon = lon2 - lon1\n",
    "    dlat = lat2 - lat1\n",
    "\n",
    "    a = sin(dlat / 2)**2 + cos(lat1) * cos(lat2) * sin(dlon / 2)**2\n",
    "    c = 2 * atan2(sqrt(a), sqrt(1 - a))\n",
    "\n",
    "    distance = R * c\n",
    "    return distance * 1000\n",
    "\n",
    "df['distance'] = df.apply(haversine, axis=1)\n",
    "Y = df['trip_duration'].to_numpy()\n",
    "X = df.drop(columns='trip_duration')"
   ],
   "metadata": {
    "collapsed": false
   }
  },
  {
   "cell_type": "code",
   "execution_count": 634,
   "outputs": [
    {
     "data": {
      "text/plain": "<class 'statsmodels.iolib.summary.Summary'>\n\"\"\"\n                            OLS Regression Results                            \n==============================================================================\nDep. Variable:          trip_duration   R-squared:                       0.010\nModel:                            OLS   Adj. R-squared:                  0.010\nMethod:                 Least Squares   F-statistic:                     1751.\nDate:                Wed, 01 Mar 2023   Prob (F-statistic):               0.00\nTime:                        11:19:44   Log-Likelihood:            -1.4554e+07\nNo. Observations:             1458644   AIC:                         2.911e+07\nDf Residuals:                 1458635   BIC:                         2.911e+07\nDf Model:                           8                                         \nCovariance Type:            nonrobust                                         \n=====================================================================================\n                        coef    std err          t      P>|t|      [0.025      0.975]\n-------------------------------------------------------------------------------------\nIntercept          -2.88e+05   6.22e+04     -4.631      0.000    -4.1e+05   -1.66e+05\ndistance              0.1117      0.001    103.922      0.000       0.110       0.114\nvendor_id           199.9185      9.035     22.127      0.000     182.210     217.627\ndropoff_latitude   -596.9809    139.449     -4.281      0.000    -870.297    -323.665\ndropoff_longitude   256.0813     99.922      2.563      0.010      60.238     451.924\npickup_latitude   -1327.1848    154.202     -8.607      0.000   -1629.416   -1024.953\npickup_longitude     34.1797    101.723      0.336      0.737    -165.195     233.554\npassenger_count       8.0117      3.429      2.337      0.019       1.291      14.732\npickup_datetime       0.5274      0.084      6.300      0.000       0.363       0.691\n================================================================================\nOmnibus:                  8314069.906   Durbin-Watson:                     1.999\nProb(Omnibus):                  0.000   Jarque-Bera (JB):   2322859201293458.500\nSkew:                         347.643   Prob(JB):                           0.00\nKurtosis:                  195499.804   Cond. No.                       1.06e+10\n================================================================================\n\nNotes:\n[1] Standard Errors assume that the covariance matrix of the errors is correctly specified.\n[2] The condition number is large, 1.06e+10. This might indicate that there are\nstrong multicollinearity or other numerical problems.\n\"\"\"",
      "text/html": "<table class=\"simpletable\">\n<caption>OLS Regression Results</caption>\n<tr>\n  <th>Dep. Variable:</th>      <td>trip_duration</td>  <th>  R-squared:         </th>  <td>   0.010</td>  \n</tr>\n<tr>\n  <th>Model:</th>                   <td>OLS</td>       <th>  Adj. R-squared:    </th>  <td>   0.010</td>  \n</tr>\n<tr>\n  <th>Method:</th>             <td>Least Squares</td>  <th>  F-statistic:       </th>  <td>   1751.</td>  \n</tr>\n<tr>\n  <th>Date:</th>             <td>Wed, 01 Mar 2023</td> <th>  Prob (F-statistic):</th>   <td>  0.00</td>   \n</tr>\n<tr>\n  <th>Time:</th>                 <td>11:19:44</td>     <th>  Log-Likelihood:    </th> <td>-1.4554e+07</td>\n</tr>\n<tr>\n  <th>No. Observations:</th>      <td>1458644</td>     <th>  AIC:               </th>  <td>2.911e+07</td> \n</tr>\n<tr>\n  <th>Df Residuals:</th>          <td>1458635</td>     <th>  BIC:               </th>  <td>2.911e+07</td> \n</tr>\n<tr>\n  <th>Df Model:</th>              <td>     8</td>      <th>                     </th>      <td> </td>     \n</tr>\n<tr>\n  <th>Covariance Type:</th>      <td>nonrobust</td>    <th>                     </th>      <td> </td>     \n</tr>\n</table>\n<table class=\"simpletable\">\n<tr>\n          <td></td>             <th>coef</th>     <th>std err</th>      <th>t</th>      <th>P>|t|</th>  <th>[0.025</th>    <th>0.975]</th>  \n</tr>\n<tr>\n  <th>Intercept</th>         <td> -2.88e+05</td> <td> 6.22e+04</td> <td>   -4.631</td> <td> 0.000</td> <td> -4.1e+05</td> <td>-1.66e+05</td>\n</tr>\n<tr>\n  <th>distance</th>          <td>    0.1117</td> <td>    0.001</td> <td>  103.922</td> <td> 0.000</td> <td>    0.110</td> <td>    0.114</td>\n</tr>\n<tr>\n  <th>vendor_id</th>         <td>  199.9185</td> <td>    9.035</td> <td>   22.127</td> <td> 0.000</td> <td>  182.210</td> <td>  217.627</td>\n</tr>\n<tr>\n  <th>dropoff_latitude</th>  <td> -596.9809</td> <td>  139.449</td> <td>   -4.281</td> <td> 0.000</td> <td> -870.297</td> <td> -323.665</td>\n</tr>\n<tr>\n  <th>dropoff_longitude</th> <td>  256.0813</td> <td>   99.922</td> <td>    2.563</td> <td> 0.010</td> <td>   60.238</td> <td>  451.924</td>\n</tr>\n<tr>\n  <th>pickup_latitude</th>   <td>-1327.1848</td> <td>  154.202</td> <td>   -8.607</td> <td> 0.000</td> <td>-1629.416</td> <td>-1024.953</td>\n</tr>\n<tr>\n  <th>pickup_longitude</th>  <td>   34.1797</td> <td>  101.723</td> <td>    0.336</td> <td> 0.737</td> <td> -165.195</td> <td>  233.554</td>\n</tr>\n<tr>\n  <th>passenger_count</th>   <td>    8.0117</td> <td>    3.429</td> <td>    2.337</td> <td> 0.019</td> <td>    1.291</td> <td>   14.732</td>\n</tr>\n<tr>\n  <th>pickup_datetime</th>   <td>    0.5274</td> <td>    0.084</td> <td>    6.300</td> <td> 0.000</td> <td>    0.363</td> <td>    0.691</td>\n</tr>\n</table>\n<table class=\"simpletable\">\n<tr>\n  <th>Omnibus:</th>       <td>8314069.906</td> <th>  Durbin-Watson:     </th>       <td>   1.999</td>      \n</tr>\n<tr>\n  <th>Prob(Omnibus):</th>   <td> 0.000</td>    <th>  Jarque-Bera (JB):  </th> <td>2322859201293458.500</td>\n</tr>\n<tr>\n  <th>Skew:</th>            <td>347.643</td>   <th>  Prob(JB):          </th>       <td>    0.00</td>      \n</tr>\n<tr>\n  <th>Kurtosis:</th>      <td>195499.804</td>  <th>  Cond. No.          </th>       <td>1.06e+10</td>      \n</tr>\n</table><br/><br/>Notes:<br/>[1] Standard Errors assume that the covariance matrix of the errors is correctly specified.<br/>[2] The condition number is large, 1.06e+10. This might indicate that there are<br/>strong multicollinearity or other numerical problems."
     },
     "execution_count": 634,
     "metadata": {},
     "output_type": "execute_result"
    }
   ],
   "source": [
    "# With statsmodel\n",
    "import statsmodels.api as sm\n",
    "lm = sm.OLS.from_formula('trip_duration ~ distance + vendor_id + dropoff_latitude + dropoff_longitude + pickup_latitude + pickup_longitude + passenger_count + pickup_datetime + vendor_id', df)\n",
    "result = lm.fit()\n",
    "result.summary()"
   ],
   "metadata": {
    "collapsed": false
   }
  },
  {
   "cell_type": "code",
   "execution_count": 635,
   "outputs": [
    {
     "data": {
      "text/plain": "0.009510359850939731"
     },
     "execution_count": 635,
     "metadata": {},
     "output_type": "execute_result"
    }
   ],
   "source": [
    "# With sklearn\n",
    "from sklearn.linear_model import LinearRegression\n",
    "\n",
    "skl_linreg = LinearRegression().fit(X, Y)\n",
    "skl_linreg.score(X, Y)"
   ],
   "metadata": {
    "collapsed": false
   }
  }
 ]
}
